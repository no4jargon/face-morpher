{
 "cells": [
  {
   "cell_type": "code",
   "execution_count": 1,
   "metadata": {},
   "outputs": [
    {
     "name": "stdout",
     "output_type": "stream",
     "text": [
      "Populating the interactive namespace from numpy and matplotlib\n"
     ]
    }
   ],
   "source": [
    "import math\n",
    "import time\n",
    "import glob\n",
    "import numpy as np\n",
    "import matplotlib.pyplot as plt\n",
    "from matplotlib import path\n",
    "from matplotlib.path import Path\n",
    "import skimage.transform as sktr\n",
    "import skimage.color as color\n",
    "import skimage.io as skio\n",
    "import scipy.misc\n",
    "from scipy import interpolate\n",
    "from scipy.spatial import Delaunay\n",
    "import scipy\n",
    "import cv2\n",
    "from pylab import plot, ginput, show, axis\n",
    "from PIL import Image\n",
    "plt.rcParams['image.cmap'] = 'gray'\n",
    "# %pylab inline\n",
    "%pylab qt"
   ]
  },
  {
   "cell_type": "markdown",
   "metadata": {},
   "source": [
    "# Defining Correspondences"
   ]
  },
  {
   "cell_type": "markdown",
   "metadata": {},
   "source": [
    "### Functions"
   ]
  },
  {
   "cell_type": "code",
   "execution_count": 3,
   "metadata": {},
   "outputs": [],
   "source": [
    "def getpoints(img):\n",
    "    plt.figure()\n",
    "    plt.imshow(img)\n",
    "    pts = ginput(44, timeout=500)\n",
    "    pts = [(0,0),(0,img.shape[0]-1),(img.shape[1]-1,0),(img.shape[1]-1,img.shape[0]-1)]+pts\n",
    "    pts = np.array(pts)\n",
    "    plt.close()\n",
    "    plt.figure()\n",
    "    plt.imshow(img)\n",
    "    plt.plot(pts[:,0], pts[:,1], \"r+\")\n",
    "    plt.show()\n",
    "    return pts"
   ]
  },
  {
   "cell_type": "code",
   "execution_count": 4,
   "metadata": {},
   "outputs": [],
   "source": [
    "def getavg(pts1,pts2):\n",
    "    pts_avg = pts1+0.5*(pts2-pts1)\n",
    "    return pts_avg"
   ]
  },
  {
   "cell_type": "code",
   "execution_count": 5,
   "metadata": {},
   "outputs": [],
   "source": [
    "def scale_to_average(img1, img2, scalingFactor):\n",
    "    width = int(np.floor((img1.shape[1] + img2.shape[1]) * (scalingFactor/2)))\n",
    "    height = int(np.floor((img1.shape[0] + img2.shape[0]) * (scalingFactor/2)))\n",
    "    dim = [width, height]\n",
    "\n",
    "    img1Rszed = cv2.resize(img1, dim)\n",
    "    img2Rszed = cv2.resize(img2, dim)\n",
    "    return img1Rszed, img2Rszed"
   ]
  },
  {
   "cell_type": "markdown",
   "metadata": {},
   "source": [
    "### Main"
   ]
  },
  {
   "cell_type": "code",
   "execution_count": 6,
   "metadata": {},
   "outputs": [],
   "source": [
    "#Get points\n",
    "img1 = plt.imread(\"/Users/Anuj/Downloads/Face-Morphing/code/AnujCloseUpPortrait.jpg\")/255.\n",
    "img2 = plt.imread(\"/Users/Anuj/Downloads/Face-Morphing/code/BharatCloseUp.jpg\")/255.\n",
    "img1, img2 = scale_to_average(img1, img2, 0.125)\n",
    "pts1 = getpoints(img1)\n",
    "pts2 = getpoints(img2)"
   ]
  },
  {
   "cell_type": "code",
   "execution_count": 7,
   "metadata": {},
   "outputs": [],
   "source": [
    "#Get average\n",
    "pts_avg = getavg(pts1,pts2)\n",
    "plt.figure()\n",
    "plt.imshow(img1)\n",
    "plt.plot(pts_avg[:,0], pts_avg[:,1], \"r+\")\n",
    "plt.figure()\n",
    "plt.imshow(img2)\n",
    "plt.plot(pts_avg[:,0], pts_avg[:,1], \"r+\")\n",
    "plt.show()"
   ]
  },
  {
   "cell_type": "code",
   "execution_count": 8,
   "metadata": {},
   "outputs": [],
   "source": [
    "#Compute Delaunay triangulation\n",
    "triangles = Delaunay(pts_avg)\n",
    "triPoints = triangles.simplices.copy()\n",
    "plt.figure()\n",
    "plt.imshow(img1)\n",
    "plt.triplot(pts1[:,0], pts1[:,1], triPoints)\n",
    "plt.plot(pts1[:,0], pts1[:,1], 'r+')\n",
    "plt.figure()\n",
    "plt.imshow(img2)\n",
    "plt.triplot(pts2[:,0], pts2[:,1], triPoints)\n",
    "plt.plot(pts2[:,0], pts2[:,1], 'r+')\n",
    "plt.show()"
   ]
  },
  {
   "cell_type": "markdown",
   "metadata": {},
   "source": [
    "# Computing the \"Mid-Way Face\""
   ]
  },
  {
   "cell_type": "markdown",
   "metadata": {},
   "source": [
    "### Functions"
   ]
  },
  {
   "cell_type": "code",
   "execution_count": 9,
   "metadata": {},
   "outputs": [],
   "source": [
    "def computeAffine(tri1_pts, tri2_pts):\n",
    "    A = np.array([tri1_pts[:,0],tri1_pts[:,1],[1,1,1]])\n",
    "    X = np.array([tri2_pts[:,0],tri2_pts[:,1],[1,1,1]])\n",
    "    Ainv = numpy.linalg.inv(A)\n",
    "    T = np.dot(X,Ainv)\n",
    "    Tinv = numpy.linalg.inv(T)\n",
    "    return Tinv"
   ]
  },
  {
   "cell_type": "code",
   "execution_count": 10,
   "metadata": {},
   "outputs": [],
   "source": [
    "def interpolate(img, x, y):\n",
    "    x0 = int(np.floor(x))\n",
    "    x1 = x0 + 1\n",
    "    y0 = int(np.floor(y))\n",
    "    y1 = y0 + 1\n",
    "\n",
    "    x0 = np.clip(x0, 0, img.shape[1]-1);\n",
    "    x1 = np.clip(x1, 0, img.shape[1]-1);\n",
    "    y0 = np.clip(y0, 0, img.shape[0]-1);\n",
    "    y1 = np.clip(y1, 0, img.shape[0]-1);\n",
    "\n",
    "    imga = img[ y0, x0 ]\n",
    "    imgb = img[ y1, x0 ]\n",
    "    imgc = img[ y0, x1 ]\n",
    "    imgd = img[ y1, x1 ]\n",
    "\n",
    "    wa = (x1-x) * (y1-y)\n",
    "    wb = (x1-x) * (y-y0)\n",
    "    wc = (x-x0) * (y1-y)\n",
    "    wd = (x-x0) * (y-y0)\n",
    "\n",
    "    return wa*imga + wb*imgb + wc*imgc + wd*imgd"
   ]
  },
  {
   "cell_type": "code",
   "execution_count": 11,
   "metadata": {},
   "outputs": [],
   "source": [
    "def inversewarp(img, nimg, A_set, triPoints, avg_shape, triPaths, interp):\n",
    "    points = [[x,y] for x in range(nimg.shape[1]) for y in range(nimg.shape[0])]\n",
    "\n",
    "    triLabels = {}\n",
    "    for point in points:\n",
    "        triLabels[str(point)] = 0 \n",
    "        \n",
    "    for j, t in enumerate(triPaths):\n",
    "        minx = int(math.floor(min(t.vertices[:,0])))\n",
    "        maxx = int(math.ceil(max(t.vertices[:,0])))\n",
    "        miny = int(math.floor(min(t.vertices[:,1])))\n",
    "        maxy = int(math.ceil(max(t.vertices[:,1])))\n",
    "        minipoints = [[x,y] for x in range(minx,maxx+1) for y in range(miny,maxy+1)]\n",
    "        locs = t.contains_points(minipoints, transform=None)\n",
    "        locs = np.dot(locs.astype(int),1)\n",
    "        locs = [minipoints[i] for i, x in enumerate(locs) if x==1]\n",
    "        for loc in locs:\n",
    "            triLabels[str(loc)] = j\n",
    "    \n",
    "    for i, pt in enumerate(points):\n",
    "        Tinv = A_set[:,:,triLabels[str(pt)]]\n",
    "        point = np.array([[pt[0]],[pt[1]],[1]])\n",
    "        ndot = np.dot(Tinv,point)\n",
    "        if interp:\n",
    "            nimg[pt[1],pt[0],:] = interpolate(img,np.array(ndot[0][0]),np.array(ndot[1][0]))\n",
    "        else:\n",
    "            npoint = (min(img.shape[1]-1,max(0,ndot[0][0])),min(img.shape[0]-1,max(0,ndot[1][0])))\n",
    "            nimg[pt[1],pt[0],:] = img[int(npoint[1]),int(npoint[0]),:]\n",
    "    return nimg"
   ]
  },
  {
   "cell_type": "code",
   "execution_count": 12,
   "metadata": {},
   "outputs": [],
   "source": [
    "def computemid(img, img_pts, avg_shape, triPoints, interp):\n",
    "    nimg = numpy.zeros(img.shape)\n",
    "    t = triPoints\n",
    "    A_set = numpy.zeros((3,3,t.shape[0]))\n",
    "    tpoints = np.array([[avg_shape[x[0]],avg_shape[x[1]],avg_shape[x[2]]] for x in triPoints])\n",
    "    triPaths = []\n",
    "    \n",
    "    for x in range(0,t.shape[0]):\n",
    "        tri1_pts = np.array([img_pts[t[x][0]],img_pts[t[x][1]],img_pts[t[x][2]]])\n",
    "        tri2_pts = np.array([avg_shape[t[x][0]],avg_shape[t[x][1]],avg_shape[t[x][2]]])\n",
    "        A = computeAffine(tri1_pts, tri2_pts)\n",
    "        A_set[:,:,x] = A\n",
    "        \n",
    "        tpts = tpoints[x]\n",
    "        triPaths.append(Path(tpts))\n",
    "        \n",
    "    inversewarp(img, nimg, A_set, triPoints, avg_shape, triPaths, interp)\n",
    "    return nimg"
   ]
  },
  {
   "cell_type": "markdown",
   "metadata": {},
   "source": [
    "### Main"
   ]
  },
  {
   "cell_type": "code",
   "execution_count": 13,
   "metadata": {},
   "outputs": [],
   "source": [
    "#Compute average shape \"Use from part 1\"\n",
    "avg_shape = pts_avg"
   ]
  },
  {
   "cell_type": "code",
   "execution_count": 14,
   "metadata": {},
   "outputs": [],
   "source": [
    "#Warp both faces into that shape \"Affine warp\"\n",
    "# If you want to use interpolation change False to True, however it is 25 seconds slower\n",
    "#then without interpolation.\n",
    "nimg1 = computemid(img1,pts1,avg_shape, triPoints, False)\n",
    "nimg2 = computemid(img2,pts2,avg_shape, triPoints, False)"
   ]
  },
  {
   "cell_type": "code",
   "execution_count": 15,
   "metadata": {},
   "outputs": [],
   "source": [
    "#Show and Save Warped Images\n",
    "plt.figure()\n",
    "plt.imshow(nimg1)\n",
    "filename = \"facewarped1.jpg\"\n",
    "plt.figure()\n",
    "plt.imshow(nimg2)\n",
    "filename = \"facewarped2.jpg\"\n",
    "plt.show()"
   ]
  },
  {
   "cell_type": "code",
   "execution_count": 16,
   "metadata": {},
   "outputs": [],
   "source": [
    "#Average colors together\n",
    "img_new = nimg1+0.5*(nimg2-nimg1)\n",
    "plt.figure()\n",
    "plt.imshow(img_new)\n",
    "plt.show()\n",
    "filename = \"midwayface2.jpg\"\n"
   ]
  },
  {
   "cell_type": "markdown",
   "metadata": {},
   "source": [
    "# The Morph Sequence"
   ]
  },
  {
   "cell_type": "markdown",
   "metadata": {},
   "source": [
    "### Functions"
   ]
  },
  {
   "cell_type": "code",
   "execution_count": 17,
   "metadata": {},
   "outputs": [],
   "source": [
    "def morph(im1, im2, im1_pts, im2_pts, tri, warp_frac, dissolve_frac):\n",
    "    avg_shape = im1_pts+warp_frac*(im2_pts-im1_pts)\n",
    "    nimg1 = computemid(im1,im1_pts,avg_shape, tri, False)\n",
    "    nimg2 = computemid(im2,im2_pts,avg_shape, tri, False)\n",
    "    nimg = nimg1+dissolve_frac*(nimg2-nimg1)\n",
    "    return nimg"
   ]
  },
  {
   "cell_type": "markdown",
   "metadata": {},
   "source": [
    "### Main"
   ]
  },
  {
   "cell_type": "code",
   "execution_count": 18,
   "metadata": {},
   "outputs": [],
   "source": [
    "#Morph function\n",
    "for frac in range(0,46):\n",
    "    warp_frac = (1./45.)*frac\n",
    "    dissolve_frac = (1./45.)*frac\n",
    "    morphed_im = morph(img1, img2, pts1, pts2, triPoints, warp_frac, dissolve_frac)\n",
    "    filename = \"/Users/Anuj/Downloads/Face-Morphing/out/out\"+str(frac)+\".jpg\"\n",
    "    Image.fromarray((morphed_im * 255).astype(np.uint8)).save(filename)\n"
   ]
  },
  {
   "cell_type": "markdown",
   "metadata": {},
   "source": [
    "# The \"Mean Face\" Of a Population"
   ]
  },
  {
   "cell_type": "markdown",
   "metadata": {},
   "source": [
    "### Main"
   ]
  },
  {
   "cell_type": "code",
   "execution_count": 27,
   "metadata": {},
   "outputs": [
    {
     "name": "stdout",
     "output_type": "stream",
     "text": [
      "(37, 62, 2)\n"
     ]
    }
   ],
   "source": [
    "#Get data set\n",
    "\n",
    "## Images\n",
    "dataset = np.zeros((480,640,3,40))\n",
    "datasetf = np.zeros((480,640,3,10))\n",
    "datasetm = np.zeros((480,640,3,30))\n",
    "files1 = glob.glob('/Users/Anuj/Downloads/Face-Morphing/data/*.bmp')\n",
    "fcount = 0\n",
    "mcount = 0\n",
    "for x in range(len(files1)):\n",
    "    if \"1f\" in files1[x]:\n",
    "        datasetf[:,:,:,fcount] = plt.imread(files1[x])/255.\n",
    "        fcount += 1\n",
    "    if \"1m\" in files1[x]:\n",
    "        datasetm[:,:,:,mcount] = plt.imread(files1[x])/255.\n",
    "        mcount += 1\n",
    "    dataset[:,:,:,x] = plt.imread(files1[x])/255.\n",
    "    \n",
    "## Points\n",
    "files2 = glob.glob('/Users/Anuj/Downloads/Face-Morphing/data/*.asf')\n",
    "full_points = []\n",
    "full_pointsf = []\n",
    "full_pointsm = []\n",
    "for x in range(len(files2)):\n",
    "    fi = open(files2[x])\n",
    "    next = fi.readline()\n",
    "    count = 0\n",
    "    points = []\n",
    "    while next != \"\":\n",
    "        if count >= 16 and count <= 73:\n",
    "            nt = next.split()\n",
    "            points += [[float(nt[2])*640.,float(nt[3])*480.]]\n",
    "\n",
    "        next = fi.readline()\n",
    "        count += 1\n",
    "    points = [(0,0),(0,480-1),(640-1,0),(640-1,480-1)]+points\n",
    "    if \"1f\" in files2[x]:\n",
    "        full_pointsf += [points]\n",
    "    if \"1m\" in files2[x]:\n",
    "        full_pointsm += [points]\n",
    "    full_points += [points]\n",
    "full_points = np.array(full_points)\n",
    "print(full_points.shape)\n",
    "full_pointsf = np.array(full_pointsf)\n",
    "full_pointsm = np.array(full_pointsm)"
   ]
  },
  {
   "cell_type": "code",
   "execution_count": 42,
   "metadata": {},
   "outputs": [],
   "source": [
    "#My face with their point system\n",
    "plt.figure()\n",
    "menew = plt.imread(\"/Users/Anuj/Downloads/Face-Morphing/code/AnujCloseUpPortrait.jpg\")/255.\n",
    "menew = cv2.resize(menew, (640, 480))\n",
    "plt.imshow(menew)\n",
    "ptsnew = ginput(58, timeout=500)\n",
    "plt.close()\n",
    "ptsnew = np.array(ptsnew)\n",
    "ptsnew = np.array([(0,0),(0,480-1),(640-1,0),(640-1,480-1)]+ ptsnew.tolist())"
   ]
  },
  {
   "cell_type": "code",
   "execution_count": 38,
   "metadata": {},
   "outputs": [],
   "source": [
    "#Compute average face shape\n",
    "sum_shape = np.copy(full_points[0])\n",
    "for x in range(1,full_points.shape[0]):\n",
    "    sum_shape += full_points[x]\n",
    "data_avg_shape = sum_shape/full_points.shape[0]"
   ]
  },
  {
   "cell_type": "code",
   "execution_count": 39,
   "metadata": {},
   "outputs": [],
   "source": [
    "#Compute triangles\n",
    "data_triangles = Delaunay(data_avg_shape)\n",
    "data_triPoints = data_triangles.simplices.copy()"
   ]
  },
  {
   "cell_type": "code",
   "execution_count": 30,
   "metadata": {},
   "outputs": [],
   "source": [
    "#Morph each face in the dataset into average shape\n",
    "morphed_dataset = np.zeros((480,640,3,40))\n",
    "for x in range(full_points.shape[0]):\n",
    "    morphed_dataset[:,:,:,x] = computemid(dataset[:,:,:,x],full_points[x],data_avg_shape, \n",
    "                                          data_triPoints, False)"
   ]
  },
  {
   "cell_type": "code",
   "execution_count": 41,
   "metadata": {},
   "outputs": [],
   "source": [
    "#Compute average face\n",
    "average_face = np.copy(morphed_dataset[:,:,:,0])\n",
    "for x in range(1,full_points.shape[0]):\n",
    "    average_face += morphed_dataset[:,:,:,x]\n",
    "average_face = average_face/full_points.shape[0]\n",
    "plt.figure()\n",
    "plt.imshow(average_face)\n",
    "plt.show\n",
    "filename = \"/Users/Anuj/Downloads/Face-Morphing/out/avg.jpg\"\n",
    "Image.fromarray((average_face * 255).astype(np.uint8)).save(filename)"
   ]
  },
  {
   "cell_type": "code",
   "execution_count": 43,
   "metadata": {},
   "outputs": [],
   "source": [
    "#My face warped into average\n",
    "data_my_face = computemid(menew,ptsnew,data_avg_shape, data_triPoints, False)\n",
    "plt.figure()\n",
    "plt.imshow(data_my_face)\n",
    "plt.show\n",
    "filename = \"/Users/Anuj/Downloads/Face-Morphing/out/mwarp.jpg\"\n",
    "Image.fromarray((data_my_face * 255).astype(np.uint8)).save(filename)"
   ]
  },
  {
   "cell_type": "code",
   "execution_count": 45,
   "metadata": {},
   "outputs": [],
   "source": [
    "#Average face warped into my face geometry\n",
    "avg_face_tome = computemid(average_face,data_avg_shape,ptsnew, data_triPoints, False)\n",
    "plt.figure()\n",
    "plt.imshow(avg_face_tome)\n",
    "plt.show\n",
    "filename = \"/Users/Anuj/Downloads/Face-Morphing/out/awarp.jpg\"\n",
    "Image.fromarray((avg_face_tome * 255).astype(np.uint8)).save(filename)"
   ]
  },
  {
   "cell_type": "markdown",
   "metadata": {},
   "source": [
    "# Caricatures"
   ]
  },
  {
   "cell_type": "markdown",
   "metadata": {},
   "source": [
    "### Main"
   ]
  },
  {
   "cell_type": "code",
   "execution_count": 47,
   "metadata": {},
   "outputs": [],
   "source": [
    "#Extrapolate My unique features\n",
    "caricature_geo = ptsnew +0.75*(ptsnew-data_avg_shape)\n",
    "#Warp\n",
    "caricature_face = computemid(menew,ptsnew,caricature_geo, data_triPoints, False)\n",
    "plt.figure()\n",
    "plt.imshow(caricature_face)\n",
    "plt.show\n",
    "filename = \"/Users/Anuj/Downloads/Face-Morphing/out/caricature1.jpg\"\n",
    "Image.fromarray((caricature_face * 255).astype(np.uint8)).save(filename)"
   ]
  }
 ],
 "metadata": {
  "kernelspec": {
   "display_name": "Python 3 (ipykernel)",
   "language": "python",
   "name": "python3"
  },
  "language_info": {
   "codemirror_mode": {
    "name": "ipython",
    "version": 3
   },
   "file_extension": ".py",
   "mimetype": "text/x-python",
   "name": "python",
   "nbconvert_exporter": "python",
   "pygments_lexer": "ipython3",
   "version": "3.7.9"
  }
 },
 "nbformat": 4,
 "nbformat_minor": 1
}
